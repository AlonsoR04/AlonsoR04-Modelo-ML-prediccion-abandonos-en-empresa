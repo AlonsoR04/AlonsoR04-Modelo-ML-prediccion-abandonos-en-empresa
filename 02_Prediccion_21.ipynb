{
  "cells": [
    {
      "cell_type": "markdown",
      "metadata": {
        "id": "Y5EwmVyqHZlG"
      },
      "source": [
        "![LogoUC3M](https://upload.wikimedia.org/wikipedia/commons/thumb/a/a6/Acr%C3%B3nimo_y_nombre_de_la_UC3M.svg/320px-Acr%C3%B3nimo_y_nombre_de_la_UC3M.svg.png)\n",
        "\n",
        "*GRUPO 21 | Alonso Rios Guerra - 100495821 | Guillermo Sancho González - 100495991 | GitHub: https://github.com/100495991/AA_Practica1*\n",
        "\n",
        "\n"
      ]
    },
    {
      "cell_type": "markdown",
      "metadata": {
        "id": "A2PKFYczHo1_"
      },
      "source": [
        "# *__Modelo final__*"
      ]
    },
    {
      "cell_type": "markdown",
      "metadata": {},
      "source": [
        "En el otro notebook realizamos la elección, mejora y evaluación del modelo de aprendizaje supervisado. En este notebook se carga el modelo del archivo modelo_final_10.pkl para luego realizar una serie de predicciones sobre unos datos sin etiquetar (no sabemos la respuesta). Para ello haremos uno sencillos pasos."
      ]
    },
    {
      "cell_type": "markdown",
      "metadata": {},
      "source": [
        "-   Leemos los datos, los transformamos al igual que en el entrenamiento y cargamos el modelo del archivo."
      ]
    },
    {
      "cell_type": "code",
      "execution_count": 1,
      "metadata": {},
      "outputs": [],
      "source": [
        "import pandas as pd\n",
        "from pickle import load\n",
        "\n",
        "data_path = 'attrition_competition_10.csv.gz'\n",
        "\n",
        "data = pd.read_csv(data_path, compression='gzip', sep = ',') # Leer el dataset comprimido\n",
        "\n",
        "constantes = ['EmployeeCount', 'Over18', 'StandardHours'] # Columnas constantes\n",
        "\n",
        "columnas_id = ['EmployeeID'] # Columnas ID\n",
        "\n",
        "data = data.drop(columns=constantes + columnas_id) # Eliminar columnas constantes e ID\n",
        "\n",
        "with open('modelo_final_21.pkl', 'rb') as f: # Cargar el modelo\n",
        "    modelo = load(f)"
      ]
    },
    {
      "cell_type": "markdown",
      "metadata": {},
      "source": [
        "- Predecimos el abandono de los empleados y lo guardamos en predicciones_10.csv."
      ]
    },
    {
      "cell_type": "code",
      "execution_count": 2,
      "metadata": {
        "id": "eCHqNpg0HW_d",
        "outputId": "31952d31-27a5-4a0e-9c9e-12557f6b2093"
      },
      "outputs": [],
      "source": [
        "predicciones = modelo.predict(data) # Predecir el abandono\n",
        "\n",
        "data['prediccion'] = predicciones \n",
        "data['prediccion'] = data['prediccion'].astype(str)\n",
        "\n",
        "data['prediccion'].to_csv('predicciones_21.csv') # Guardar resultados\n"
      ]
    },
    {
      "cell_type": "markdown",
      "metadata": {},
      "source": [
        "- Por último, comprobamos que la proporción de Nos de un resultado razonable."
      ]
    },
    {
      "cell_type": "code",
      "execution_count": 3,
      "metadata": {},
      "outputs": [
        {
          "name": "stdout",
          "output_type": "stream",
          "text": [
            "prediccion\n",
            "No     1234\n",
            "Yes     236\n",
            "Name: count, dtype: int64\n",
            "prediccion\n",
            "No     83.945578\n",
            "Yes    16.054422\n",
            "Name: count, dtype: float64\n"
          ]
        }
      ],
      "source": [
        "\n",
        "prediction = pd.read_csv('predicciones_21.csv', sep = ',') # Leer el archivo de predicciones\n",
        "\n",
        "counts = prediction['prediccion'].value_counts()\n",
        "\n",
        "percentages = (counts / len(prediction)) * 100 # Calcular el porcentaje de cada valor\n",
        "\n",
        "print(counts)         # Muestra el conteo de Yes y No\n",
        "print(percentages)    # Muestra el porcentaje de Yes y No"
      ]
    }
  ],
  "metadata": {
    "colab": {
      "provenance": []
    },
    "kernelspec": {
      "display_name": "Python 3",
      "language": "python",
      "name": "python3"
    },
    "language_info": {
      "codemirror_mode": {
        "name": "ipython",
        "version": 3
      },
      "file_extension": ".py",
      "mimetype": "text/x-python",
      "name": "python",
      "nbconvert_exporter": "python",
      "pygments_lexer": "ipython3",
      "version": "3.10.7"
    }
  },
  "nbformat": 4,
  "nbformat_minor": 0
}
